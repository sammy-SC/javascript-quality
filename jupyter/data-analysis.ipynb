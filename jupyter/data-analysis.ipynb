{
 "cells": [
  {
   "cell_type": "markdown",
   "metadata": {},
   "source": [
    "# Intro\n",
    "\n",
    "## Features\n",
    "\n",
    "### Popularity indicators\n",
    "- stargazers_count -> number of stars\n",
    "- forks_count\n",
    "- subscribers_count\n",
    "- downloads count for 2015 and 2016\n",
    "- average month downloads for last year\n",
    "- downloads for last month\n",
    "- downloads for last week\n",
    "\n",
    "### Features of projects\n",
    "- size\n",
    "- dependencies_count\n",
    "- mainteiners_count\n",
    "- contributors_count\n",
    "- has_tests\n",
    "- has_readme\n",
    "- open_issues_count"
   ]
  },
  {
   "cell_type": "code",
   "execution_count": 1,
   "metadata": {
    "collapsed": true
   },
   "outputs": [],
   "source": [
    "import numpy as np"
   ]
  },
  {
   "cell_type": "code",
   "execution_count": 2,
   "metadata": {
    "collapsed": false
   },
   "outputs": [],
   "source": [
    "# Helper function\n",
    "from IPython.display import Markdown, display\n",
    "def printmd(string):\n",
    "    '''\n",
    "    helper print function that prints markdown\n",
    "    '''\n",
    "    display(Markdown(string))"
   ]
  },
  {
   "cell_type": "code",
   "execution_count": 3,
   "metadata": {
    "collapsed": false
   },
   "outputs": [
    {
     "name": "stdout",
     "output_type": "stream",
     "text": [
      "Connected to DB\n"
     ]
    }
   ],
   "source": [
    "import shared\n",
    "\n",
    "X, Y, X_labels, Y_labels = shared.fetch_data()"
   ]
  },
  {
   "cell_type": "code",
   "execution_count": 5,
   "metadata": {
    "collapsed": false
   },
   "outputs": [
    {
     "name": "stdout",
     "output_type": "stream",
     "text": [
      "Packages that have tests: 106661.0 / 139488\n",
      "Packages that have readme file: 126201.0 / 139488\n"
     ]
    }
   ],
   "source": [
    "# here we take a look at how many packages have tests and how many of them have readme file\n",
    "\n",
    "column_sum = np.sum(X, axis=0)\n",
    "has_tests_total = column_sum[shared.HAS_TESTS]\n",
    "has_readme_total = column_sum[shared.HAS_README]\n",
    "total = X.shape[0]\n",
    "print(\"Packages that have tests: {} / {}\".format(has_tests_total, total))\n",
    "print(\"Packages that have readme file: {} / {}\".format(has_readme_total, total))\n",
    "# Numer of repos that have test \n",
    "# and number of repos that have readme"
   ]
  },
  {
   "cell_type": "code",
   "execution_count": 6,
   "metadata": {
    "collapsed": false
   },
   "outputs": [
    {
     "data": {
      "text/html": [
       "<div>\n",
       "<table border=\"1\" class=\"dataframe\">\n",
       "  <thead>\n",
       "    <tr style=\"text-align: right;\">\n",
       "      <th></th>\n",
       "      <th>open_issues_count</th>\n",
       "      <th>size</th>\n",
       "      <th>dependencies_count</th>\n",
       "      <th>mainteiners_count</th>\n",
       "      <th>contributors_count</th>\n",
       "      <th>has_tests</th>\n",
       "      <th>has_readme</th>\n",
       "      <th>stars</th>\n",
       "      <th>forks</th>\n",
       "      <th>subscribers</th>\n",
       "      <th>downloads</th>\n",
       "      <th>avg_per_month</th>\n",
       "      <th>last_month_downloads</th>\n",
       "      <th>last_week_downloads</th>\n",
       "    </tr>\n",
       "  </thead>\n",
       "  <tbody>\n",
       "    <tr>\n",
       "      <th>count</th>\n",
       "      <td>139488</td>\n",
       "      <td>139488</td>\n",
       "      <td>139488</td>\n",
       "      <td>139488</td>\n",
       "      <td>139488</td>\n",
       "      <td>139488</td>\n",
       "      <td>139488</td>\n",
       "      <td>139488</td>\n",
       "      <td>139488</td>\n",
       "      <td>139488</td>\n",
       "      <td>139488</td>\n",
       "      <td>139488</td>\n",
       "      <td>139488</td>\n",
       "      <td>139488</td>\n",
       "    </tr>\n",
       "    <tr>\n",
       "      <th>mean</th>\n",
       "      <td>2</td>\n",
       "      <td>974</td>\n",
       "      <td>3</td>\n",
       "      <td>1</td>\n",
       "      <td>0</td>\n",
       "      <td>1</td>\n",
       "      <td>1</td>\n",
       "      <td>44</td>\n",
       "      <td>7</td>\n",
       "      <td>5</td>\n",
       "      <td>397430</td>\n",
       "      <td>20478</td>\n",
       "      <td>36701</td>\n",
       "      <td>9966</td>\n",
       "    </tr>\n",
       "    <tr>\n",
       "      <th>std</th>\n",
       "      <td>19</td>\n",
       "      <td>10327</td>\n",
       "      <td>4</td>\n",
       "      <td>1</td>\n",
       "      <td>5</td>\n",
       "      <td>0</td>\n",
       "      <td>0</td>\n",
       "      <td>591</td>\n",
       "      <td>155</td>\n",
       "      <td>46</td>\n",
       "      <td>6422534</td>\n",
       "      <td>323927</td>\n",
       "      <td>556648</td>\n",
       "      <td>152214</td>\n",
       "    </tr>\n",
       "    <tr>\n",
       "      <th>min</th>\n",
       "      <td>0</td>\n",
       "      <td>0</td>\n",
       "      <td>0</td>\n",
       "      <td>0</td>\n",
       "      <td>0</td>\n",
       "      <td>0</td>\n",
       "      <td>0</td>\n",
       "      <td>0</td>\n",
       "      <td>0</td>\n",
       "      <td>0</td>\n",
       "      <td>31</td>\n",
       "      <td>10</td>\n",
       "      <td>3</td>\n",
       "      <td>1</td>\n",
       "    </tr>\n",
       "    <tr>\n",
       "      <th>25%</th>\n",
       "      <td>0</td>\n",
       "      <td>20</td>\n",
       "      <td>0</td>\n",
       "      <td>1</td>\n",
       "      <td>0</td>\n",
       "      <td>1</td>\n",
       "      <td>1</td>\n",
       "      <td>0</td>\n",
       "      <td>0</td>\n",
       "      <td>1</td>\n",
       "      <td>353</td>\n",
       "      <td>32</td>\n",
       "      <td>17</td>\n",
       "      <td>4</td>\n",
       "    </tr>\n",
       "    <tr>\n",
       "      <th>50%</th>\n",
       "      <td>0</td>\n",
       "      <td>128</td>\n",
       "      <td>1</td>\n",
       "      <td>1</td>\n",
       "      <td>0</td>\n",
       "      <td>1</td>\n",
       "      <td>1</td>\n",
       "      <td>1</td>\n",
       "      <td>0</td>\n",
       "      <td>1</td>\n",
       "      <td>911</td>\n",
       "      <td>73</td>\n",
       "      <td>42</td>\n",
       "      <td>10</td>\n",
       "    </tr>\n",
       "    <tr>\n",
       "      <th>75%</th>\n",
       "      <td>1</td>\n",
       "      <td>220</td>\n",
       "      <td>3</td>\n",
       "      <td>1</td>\n",
       "      <td>0</td>\n",
       "      <td>1</td>\n",
       "      <td>1</td>\n",
       "      <td>5</td>\n",
       "      <td>1</td>\n",
       "      <td>2</td>\n",
       "      <td>2806</td>\n",
       "      <td>203</td>\n",
       "      <td>162</td>\n",
       "      <td>40</td>\n",
       "    </tr>\n",
       "    <tr>\n",
       "      <th>max</th>\n",
       "      <td>2417</td>\n",
       "      <td>1413899</td>\n",
       "      <td>130</td>\n",
       "      <td>66</td>\n",
       "      <td>587</td>\n",
       "      <td>1</td>\n",
       "      <td>1</td>\n",
       "      <td>98280</td>\n",
       "      <td>43605</td>\n",
       "      <td>6318</td>\n",
       "      <td>396933770</td>\n",
       "      <td>19846688</td>\n",
       "      <td>36851932</td>\n",
       "      <td>11355842</td>\n",
       "    </tr>\n",
       "  </tbody>\n",
       "</table>\n",
       "</div>"
      ],
      "text/plain": [
       "       open_issues_count    size  dependencies_count  mainteiners_count  \\\n",
       "count             139488  139488              139488             139488   \n",
       "mean                   2     974                   3                  1   \n",
       "std                   19   10327                   4                  1   \n",
       "min                    0       0                   0                  0   \n",
       "25%                    0      20                   0                  1   \n",
       "50%                    0     128                   1                  1   \n",
       "75%                    1     220                   3                  1   \n",
       "max                 2417 1413899                 130                 66   \n",
       "\n",
       "       contributors_count  has_tests  has_readme  stars  forks  subscribers  \\\n",
       "count              139488     139488      139488 139488 139488       139488   \n",
       "mean                    0          1           1     44      7            5   \n",
       "std                     5          0           0    591    155           46   \n",
       "min                     0          0           0      0      0            0   \n",
       "25%                     0          1           1      0      0            1   \n",
       "50%                     0          1           1      1      0            1   \n",
       "75%                     0          1           1      5      1            2   \n",
       "max                   587          1           1  98280  43605         6318   \n",
       "\n",
       "       downloads  avg_per_month  last_month_downloads  last_week_downloads  \n",
       "count     139488         139488                139488               139488  \n",
       "mean      397430          20478                 36701                 9966  \n",
       "std      6422534         323927                556648               152214  \n",
       "min           31             10                     3                    1  \n",
       "25%          353             32                    17                    4  \n",
       "50%          911             73                    42                   10  \n",
       "75%         2806            203                   162                   40  \n",
       "max    396933770       19846688              36851932             11355842  "
      ]
     },
     "execution_count": 6,
     "metadata": {},
     "output_type": "execute_result"
    }
   ],
   "source": [
    "import pandas as pd\n",
    "\n",
    "pd.set_option('display.float_format', lambda x: '%.0f' % x)\n",
    "dataframe = pd.DataFrame.from_records(data=np.concatenate([X, Y], axis=1), columns=X_labels + Y_labels)\n",
    "file_handle = open('data.csv', 'w')\n",
    "dataframe.to_csv(path_or_buf=file_handle)\n",
    "dataframe.describe()\n",
    "# basic analysis on all properties, features and popularity indicators."
   ]
  },
  {
   "cell_type": "markdown",
   "metadata": {},
   "source": [
    "### Open issues count\n",
    "\n",
    "Quartiles suggest that most of the repos have no issues opened at all.\n",
    "\n",
    "\n",
    "### Size\n",
    "\n",
    "Size of repos can vary alot since min is 0 and ma is 1413899. \n",
    "However quartiles that size of most of the repos is in lower values, under 128.\n",
    "\n",
    "\n",
    "### Dependencies count\n",
    "\n",
    "Most of the projects keep the dependencies low.\n",
    "\n",
    "\n",
    "### Maintainers count\n",
    "\n",
    "Most of the projects have one maintainer.\n",
    "\n",
    "\n",
    "### Contributors count\n",
    "\n",
    "Most of the projects have no contributors.\n",
    "\n",
    "\n",
    "### Has tests / has readme \n",
    "\n",
    "These are discussed above.\n",
    "\n",
    "\n",
    "### Stars\n",
    "\n",
    "Most of the projects have less than 5 stars.\n",
    "\n",
    "### Forks\n",
    "\n",
    "Most of the projects have 1 or less than 1 fork.\n",
    "\n",
    "### Subsribers\n",
    "\n",
    "Most of the projects have less than 2 subscribers\n",
    "\n",
    "\n",
    "### Downloads\n",
    "\n",
    "All numbers of downloads are distributed unevenly.\n",
    "\n"
   ]
  },
  {
   "cell_type": "code",
   "execution_count": 7,
   "metadata": {
    "collapsed": false
   },
   "outputs": [
    {
     "data": {
      "image/png": "[encoded data removed]",
      "text/plain": [
       "<matplotlib.figure.Figure at 0x11d149b00>"
      ]
     },
     "metadata": {},
     "output_type": "display_data"
    }
   ],
   "source": [
    "# the following plot helps to see distribution of value\n",
    "# we made the graph very high so the distribution can be viewed better\n",
    "\n",
    "%matplotlib inline\n",
    "\n",
    "import matplotlib.pyplot as plt\n",
    "\n",
    "fig = plt.figure(figsize=(15, 70))\n",
    "plt.plot(Y[:, shared.STARS], 'ro')\n",
    "plt.plot(Y[:, shared.FORKS], 'bo')\n",
    "plt.plot(Y[:, shared.SUBSCRIBERS], 'go')\n",
    "plt.yticks( np.arange(0, 20000, 500.0))\n",
    "plt.grid()\n",
    "plt.show()"
   ]
  },
  {
   "cell_type": "markdown",
   "metadata": {},
   "source": [
    "In the graph above we can see that red dots (number of stars) stand out and differentiate the repos the most. Even though most of the repos have very low stars count."
   ]
  },
  {
   "cell_type": "code",
   "execution_count": 8,
   "metadata": {
    "collapsed": true
   },
   "outputs": [],
   "source": [
    "# helper functions\n",
    "from scipy import stats\n",
    "\n",
    "def print_mean(X):\n",
    "    '''\n",
    "    Calculates and prints mean.\n",
    "    '''\n",
    "    printmd(\"**Mean**: {}\".format(np.mean(X)))\n",
    "    \n",
    "def print_mode(X):\n",
    "    '''\n",
    "    Calculates and prints mode.\n",
    "    '''\n",
    "    printmd(\"**Mode**: {}\".format(stats.mode(X)))\n",
    "\n",
    "def print_analysis(X):\n",
    "    '''\n",
    "    Prints various properties of X.\n",
    "    Mean, mode.\n",
    "    '''\n",
    "    print_mean(X)\n",
    "    print_mode(X)"
   ]
  },
  {
   "cell_type": "markdown",
   "metadata": {},
   "source": [
    "# Analyzing more feature and target properties"
   ]
  },
  {
   "cell_type": "code",
   "execution_count": 9,
   "metadata": {
    "collapsed": false
   },
   "outputs": [
    {
     "data": {
      "text/markdown": [
       "### Stars"
      ],
      "text/plain": [
       "<IPython.core.display.Markdown object>"
      ]
     },
     "metadata": {},
     "output_type": "display_data"
    },
    {
     "data": {
      "text/markdown": [
       "**Mean**: 43.70875630878642"
      ],
      "text/plain": [
       "<IPython.core.display.Markdown object>"
      ]
     },
     "metadata": {},
     "output_type": "display_data"
    },
    {
     "data": {
      "text/markdown": [
       "**Mode**: ModeResult(mode=array([ 0.]), count=array([59119]))"
      ],
      "text/plain": [
       "<IPython.core.display.Markdown object>"
      ]
     },
     "metadata": {},
     "output_type": "display_data"
    },
    {
     "data": {
      "text/markdown": [
       "### Forks"
      ],
      "text/plain": [
       "<IPython.core.display.Markdown object>"
      ]
     },
     "metadata": {},
     "output_type": "display_data"
    },
    {
     "data": {
      "text/markdown": [
       "**Mean**: 7.442303280568938"
      ],
      "text/plain": [
       "<IPython.core.display.Markdown object>"
      ]
     },
     "metadata": {},
     "output_type": "display_data"
    },
    {
     "data": {
      "text/markdown": [
       "**Mode**: ModeResult(mode=array([ 0.]), count=array([87036]))"
      ],
      "text/plain": [
       "<IPython.core.display.Markdown object>"
      ]
     },
     "metadata": {},
     "output_type": "display_data"
    },
    {
     "data": {
      "text/markdown": [
       "### Subribers"
      ],
      "text/plain": [
       "<IPython.core.display.Markdown object>"
      ]
     },
     "metadata": {},
     "output_type": "display_data"
    },
    {
     "data": {
      "text/markdown": [
       "**Mean**: 5.385631738930948"
      ],
      "text/plain": [
       "<IPython.core.display.Markdown object>"
      ]
     },
     "metadata": {},
     "output_type": "display_data"
    },
    {
     "data": {
      "text/markdown": [
       "**Mode**: ModeResult(mode=array([ 1.]), count=array([79876]))"
      ],
      "text/plain": [
       "<IPython.core.display.Markdown object>"
      ]
     },
     "metadata": {},
     "output_type": "display_data"
    },
    {
     "data": {
      "text/markdown": [
       "### Downloads"
      ],
      "text/plain": [
       "<IPython.core.display.Markdown object>"
      ]
     },
     "metadata": {},
     "output_type": "display_data"
    },
    {
     "data": {
      "text/markdown": [
       "**Mean**: 397430.19895618263"
      ],
      "text/plain": [
       "<IPython.core.display.Markdown object>"
      ]
     },
     "metadata": {},
     "output_type": "display_data"
    },
    {
     "data": {
      "text/markdown": [
       "**Mode**: ModeResult(mode=array([ 266.]), count=array([199]))"
      ],
      "text/plain": [
       "<IPython.core.display.Markdown object>"
      ]
     },
     "metadata": {},
     "output_type": "display_data"
    },
    {
     "data": {
      "text/markdown": [
       "### Avg downloads"
      ],
      "text/plain": [
       "<IPython.core.display.Markdown object>"
      ]
     },
     "metadata": {},
     "output_type": "display_data"
    },
    {
     "data": {
      "text/markdown": [
       "**Mean**: 20477.609397952023"
      ],
      "text/plain": [
       "<IPython.core.display.Markdown object>"
      ]
     },
     "metadata": {},
     "output_type": "display_data"
    },
    {
     "data": {
      "text/markdown": [
       "**Mode**: ModeResult(mode=array([ 15.]), count=array([378]))"
      ],
      "text/plain": [
       "<IPython.core.display.Markdown object>"
      ]
     },
     "metadata": {},
     "output_type": "display_data"
    },
    {
     "data": {
      "text/markdown": [
       "### Last month downloads"
      ],
      "text/plain": [
       "<IPython.core.display.Markdown object>"
      ]
     },
     "metadata": {},
     "output_type": "display_data"
    },
    {
     "data": {
      "text/markdown": [
       "**Mean**: 36701.05917354898"
      ],
      "text/plain": [
       "<IPython.core.display.Markdown object>"
      ]
     },
     "metadata": {},
     "output_type": "display_data"
    },
    {
     "data": {
      "text/markdown": [
       "**Mode**: ModeResult(mode=array([ 8.]), count=array([4325]))"
      ],
      "text/plain": [
       "<IPython.core.display.Markdown object>"
      ]
     },
     "metadata": {},
     "output_type": "display_data"
    },
    {
     "data": {
      "text/markdown": [
       "### Last week downloads"
      ],
      "text/plain": [
       "<IPython.core.display.Markdown object>"
      ]
     },
     "metadata": {},
     "output_type": "display_data"
    },
    {
     "data": {
      "text/markdown": [
       "**Mean**: 9966.244931463638"
      ],
      "text/plain": [
       "<IPython.core.display.Markdown object>"
      ]
     },
     "metadata": {},
     "output_type": "display_data"
    },
    {
     "data": {
      "text/markdown": [
       "**Mode**: ModeResult(mode=array([ 1.]), count=array([14568]))"
      ],
      "text/plain": [
       "<IPython.core.display.Markdown object>"
      ]
     },
     "metadata": {},
     "output_type": "display_data"
    }
   ],
   "source": [
    "# analyzing popularity features\n",
    "\n",
    "printmd(\"### Stars\")\n",
    "print_analysis(Y[:, shared.STARS])\n",
    "\n",
    "printmd(\"### Forks\")\n",
    "print_analysis(Y[:, shared.FORKS])\n",
    "\n",
    "printmd(\"### Subribers\")\n",
    "print_analysis(Y[:, shared.SUBSCRIBERS])\n",
    "\n",
    "printmd(\"### Downloads\")\n",
    "print_analysis(Y[:, shared.TOTAL_DOWNLOADS])\n",
    "\n",
    "printmd(\"### Avg downloads\")\n",
    "print_analysis(Y[:, shared.AVERAGE_PER_MONTH_DOWNLOADS])\n",
    "\n",
    "printmd(\"### Last month downloads\")\n",
    "print_analysis(Y[:, shared.LAST_MONTH_DOWNLOADS])\n",
    "\n",
    "printmd(\"### Last week downloads\")\n",
    "print_analysis(Y[:, shared.LAST_WEEK_DOWNLOADS])"
   ]
  },
  {
   "cell_type": "code",
   "execution_count": 10,
   "metadata": {
    "collapsed": false
   },
   "outputs": [
    {
     "data": {
      "text/markdown": [
       "### Open issues count"
      ],
      "text/plain": [
       "<IPython.core.display.Markdown object>"
      ]
     },
     "metadata": {},
     "output_type": "display_data"
    },
    {
     "data": {
      "text/markdown": [
       "**Mean**: 2.059259577884836"
      ],
      "text/plain": [
       "<IPython.core.display.Markdown object>"
      ]
     },
     "metadata": {},
     "output_type": "display_data"
    },
    {
     "data": {
      "text/markdown": [
       "**Mode**: ModeResult(mode=array([ 0.]), count=array([100342]))"
      ],
      "text/plain": [
       "<IPython.core.display.Markdown object>"
      ]
     },
     "metadata": {},
     "output_type": "display_data"
    },
    {
     "data": {
      "text/markdown": [
       "### Size"
      ],
      "text/plain": [
       "<IPython.core.display.Markdown object>"
      ]
     },
     "metadata": {},
     "output_type": "display_data"
    },
    {
     "data": {
      "text/markdown": [
       "**Mean**: 973.5284899059417"
      ],
      "text/plain": [
       "<IPython.core.display.Markdown object>"
      ]
     },
     "metadata": {},
     "output_type": "display_data"
    },
    {
     "data": {
      "text/markdown": [
       "**Mode**: ModeResult(mode=array([ 3.]), count=array([2730]))"
      ],
      "text/plain": [
       "<IPython.core.display.Markdown object>"
      ]
     },
     "metadata": {},
     "output_type": "display_data"
    },
    {
     "data": {
      "text/markdown": [
       "### Dependencies"
      ],
      "text/plain": [
       "<IPython.core.display.Markdown object>"
      ]
     },
     "metadata": {},
     "output_type": "display_data"
    },
    {
     "data": {
      "text/markdown": [
       "**Mean**: 2.676452454691443"
      ],
      "text/plain": [
       "<IPython.core.display.Markdown object>"
      ]
     },
     "metadata": {},
     "output_type": "display_data"
    },
    {
     "data": {
      "text/markdown": [
       "**Mode**: ModeResult(mode=array([ 0.]), count=array([43683]))"
      ],
      "text/plain": [
       "<IPython.core.display.Markdown object>"
      ]
     },
     "metadata": {},
     "output_type": "display_data"
    },
    {
     "data": {
      "text/markdown": [
       "### Mainteiners"
      ],
      "text/plain": [
       "<IPython.core.display.Markdown object>"
      ]
     },
     "metadata": {},
     "output_type": "display_data"
    },
    {
     "data": {
      "text/markdown": [
       "**Mean**: 1.175893266804313"
      ],
      "text/plain": [
       "<IPython.core.display.Markdown object>"
      ]
     },
     "metadata": {},
     "output_type": "display_data"
    },
    {
     "data": {
      "text/markdown": [
       "**Mode**: ModeResult(mode=array([ 1.]), count=array([127768]))"
      ],
      "text/plain": [
       "<IPython.core.display.Markdown object>"
      ]
     },
     "metadata": {},
     "output_type": "display_data"
    },
    {
     "data": {
      "text/markdown": [
       "### Contributors"
      ],
      "text/plain": [
       "<IPython.core.display.Markdown object>"
      ]
     },
     "metadata": {},
     "output_type": "display_data"
    },
    {
     "data": {
      "text/markdown": [
       "**Mean**: 0.2520933700389998"
      ],
      "text/plain": [
       "<IPython.core.display.Markdown object>"
      ]
     },
     "metadata": {},
     "output_type": "display_data"
    },
    {
     "data": {
      "text/markdown": [
       "**Mode**: ModeResult(mode=array([ 0.]), count=array([129569]))"
      ],
      "text/plain": [
       "<IPython.core.display.Markdown object>"
      ]
     },
     "metadata": {},
     "output_type": "display_data"
    }
   ],
   "source": [
    "# analyzing project features\n",
    "\n",
    "printmd(\"### Open issues count\")\n",
    "print_analysis(X[:, shared.OPEN_ISSUES_COUNT])\n",
    "\n",
    "printmd(\"### Size\")\n",
    "print_analysis(X[:, shared.SIZE])\n",
    "\n",
    "printmd(\"### Dependencies\")\n",
    "print_analysis(X[:, shared.DEPENDENCIES_COUNT])\n",
    "\n",
    "printmd(\"### Mainteiners\")\n",
    "print_analysis(X[:, shared.MAINTAINERS_COUNT])\n",
    "\n",
    "printmd(\"### Contributors\")\n",
    "print_analysis(X[:, shared.CONTRIBUTORS_COUNT])"
   ]
  },
  {
   "cell_type": "markdown",
   "metadata": {},
   "source": [
    "# Visualizing dataset properties"
   ]
  },
  {
   "cell_type": "code",
   "execution_count": 11,
   "metadata": {
    "collapsed": false
   },
   "outputs": [
    {
     "data": {
      "image/png": "[encoded data removed]",
      "text/plain": [
       "<matplotlib.figure.Figure at 0x120584940>"
      ]
     },
     "metadata": {},
     "output_type": "display_data"
    }
   ],
   "source": [
    "\n",
    "import matplotlib.mlab as mlab\n",
    "\n",
    "mu, sigma = 100, 15\n",
    "# the histogram of the data\n",
    "plt.figure(figsize=(15, 15)).suptitle('Histogram of repos with 10 stars and less', size=20)\n",
    "n, bins, patches = plt.hist(Y[:, 0], 100, range=(0, 10), normed=False, alpha=0.75)\n",
    "# add a 'best fit' line\n",
    "y = mlab.normpdf( bins, mu, sigma)\n",
    "l = plt.plot(bins, y, 'r--', linewidth=1)\n",
    "\n",
    "plt.grid(True)\n",
    "\n",
    "plt.show()"
   ]
  },
  {
   "cell_type": "markdown",
   "metadata": {},
   "source": [
    "This plot shows histogram for repositories with 10 and less stars, most of the repositories are in this range and overwhelming majory has 0 stars."
   ]
  },
  {
   "cell_type": "code",
   "execution_count": 12,
   "metadata": {
    "collapsed": false
   },
   "outputs": [
    {
     "data": {
      "image/png": "[encoded data removed]",
      "text/plain": [
       "<matplotlib.figure.Figure at 0x1207e6710>"
      ]
     },
     "metadata": {},
     "output_type": "display_data"
    }
   ],
   "source": [
    "# We cluster popularity features into 3 groups\n",
    "from sklearn.cluster import KMeans\n",
    "from sklearn.decomposition import PCA\n",
    "\n",
    "pca = PCA(n_components=2)\n",
    "pca.fit(Y)\n",
    "transformed = pca.transform(Y)\n",
    "\n",
    "est = KMeans(3)\n",
    "est.fit(transformed)\n",
    "\n",
    "y_kmeans = est.predict(transformed)\n",
    "plt.figure(figsize=(15, 15)).suptitle('PCA Y 2D projection', size=20)\n",
    "plt.scatter(transformed[:, 0], transformed[:, 1], c=y_kmeans, s=50, cmap='rainbow');"
   ]
  },
  {
   "cell_type": "markdown",
   "metadata": {},
   "source": [
    "First we apply principal component analysis to popularity indicators and afterwards we cluster the dataset using `kMeans`."
   ]
  },
  {
   "cell_type": "code",
   "execution_count": 13,
   "metadata": {
    "collapsed": false
   },
   "outputs": [
    {
     "data": {
      "text/plain": [
       "<matplotlib.figure.Figure at 0x122255b70>"
      ]
     },
     "metadata": {},
     "output_type": "display_data"
    },
    {
     "data": {
      "image/png": "[encoded data removed]",
      "text/plain": [
       "<matplotlib.figure.Figure at 0x120725f60>"
      ]
     },
     "metadata": {},
     "output_type": "display_data"
    }
   ],
   "source": [
    "# We cluster project features into 3 groups\n",
    "est = KMeans(3)  # 4 clusters\n",
    "est.fit(X)\n",
    "\n",
    "x_kmeans = est.predict(X)\n",
    "\n",
    "\n",
    "pca = PCA(n_components=2)\n",
    "pca.fit(X)\n",
    "transformed = pca.transform(X)\n",
    "\n",
    "plt.figure(figsize=(15, 7))\n",
    "plt.figure(figsize=(15, 15)).suptitle('PCA X 2D projection', size=20)\n",
    "plt.scatter(transformed[:, 0], transformed[:, 1], c=x_kmeans, s=50, cmap='rainbow');"
   ]
  },
  {
   "cell_type": "markdown",
   "metadata": {},
   "source": [
    "First we apply principal component analysis to repos features and afterwards we cluster the dataset using `kMeans`."
   ]
  },
  {
   "cell_type": "markdown",
   "metadata": {},
   "source": [
    "# Correlations\n",
    "\n",
    "We try to find whether any of the features are in correlation. Using Pearson correlation coefficient/\n",
    "\n",
    "### First are popularity indicators"
   ]
  },
  {
   "cell_type": "code",
   "execution_count": 14,
   "metadata": {
    "collapsed": false
   },
   "outputs": [
    {
     "data": {
      "text/markdown": [
       "**stars** <--> **forks**"
      ],
      "text/plain": [
       "<IPython.core.display.Markdown object>"
      ]
     },
     "metadata": {},
     "output_type": "display_data"
    },
    {
     "name": "stdout",
     "output_type": "stream",
     "text": [
      "0.86%\n"
     ]
    },
    {
     "data": {
      "text/markdown": [
       "**stars** <--> **subscribers**"
      ],
      "text/plain": [
       "<IPython.core.display.Markdown object>"
      ]
     },
     "metadata": {},
     "output_type": "display_data"
    },
    {
     "name": "stdout",
     "output_type": "stream",
     "text": [
      "0.70%\n"
     ]
    },
    {
     "data": {
      "text/markdown": [
       "**stars** <--> **downloads**"
      ],
      "text/plain": [
       "<IPython.core.display.Markdown object>"
      ]
     },
     "metadata": {},
     "output_type": "display_data"
    },
    {
     "name": "stdout",
     "output_type": "stream",
     "text": [
      "0.08%\n"
     ]
    },
    {
     "data": {
      "text/markdown": [
       "**stars** <--> **avg_per_month**"
      ],
      "text/plain": [
       "<IPython.core.display.Markdown object>"
      ]
     },
     "metadata": {},
     "output_type": "display_data"
    },
    {
     "name": "stdout",
     "output_type": "stream",
     "text": [
      "0.08%\n"
     ]
    },
    {
     "data": {
      "text/markdown": [
       "**stars** <--> **last_month_downloads**"
      ],
      "text/plain": [
       "<IPython.core.display.Markdown object>"
      ]
     },
     "metadata": {},
     "output_type": "display_data"
    },
    {
     "name": "stdout",
     "output_type": "stream",
     "text": [
      "0.08%\n"
     ]
    },
    {
     "data": {
      "text/markdown": [
       "**stars** <--> **last_week_downloads**"
      ],
      "text/plain": [
       "<IPython.core.display.Markdown object>"
      ]
     },
     "metadata": {},
     "output_type": "display_data"
    },
    {
     "name": "stdout",
     "output_type": "stream",
     "text": [
      "0.08%\n"
     ]
    },
    {
     "data": {
      "text/markdown": [
       "**forks** <--> **subscribers**"
      ],
      "text/plain": [
       "<IPython.core.display.Markdown object>"
      ]
     },
     "metadata": {},
     "output_type": "display_data"
    },
    {
     "name": "stdout",
     "output_type": "stream",
     "text": [
      "0.66%\n"
     ]
    },
    {
     "data": {
      "text/markdown": [
       "**forks** <--> **downloads**"
      ],
      "text/plain": [
       "<IPython.core.display.Markdown object>"
      ]
     },
     "metadata": {},
     "output_type": "display_data"
    },
    {
     "name": "stdout",
     "output_type": "stream",
     "text": [
      "0.04%\n"
     ]
    },
    {
     "data": {
      "text/markdown": [
       "**forks** <--> **avg_per_month**"
      ],
      "text/plain": [
       "<IPython.core.display.Markdown object>"
      ]
     },
     "metadata": {},
     "output_type": "display_data"
    },
    {
     "name": "stdout",
     "output_type": "stream",
     "text": [
      "0.04%\n"
     ]
    },
    {
     "data": {
      "text/markdown": [
       "**forks** <--> **last_month_downloads**"
      ],
      "text/plain": [
       "<IPython.core.display.Markdown object>"
      ]
     },
     "metadata": {},
     "output_type": "display_data"
    },
    {
     "name": "stdout",
     "output_type": "stream",
     "text": [
      "0.04%\n"
     ]
    },
    {
     "data": {
      "text/markdown": [
       "**forks** <--> **last_week_downloads**"
      ],
      "text/plain": [
       "<IPython.core.display.Markdown object>"
      ]
     },
     "metadata": {},
     "output_type": "display_data"
    },
    {
     "name": "stdout",
     "output_type": "stream",
     "text": [
      "0.04%\n"
     ]
    },
    {
     "data": {
      "text/markdown": [
       "**subscribers** <--> **downloads**"
      ],
      "text/plain": [
       "<IPython.core.display.Markdown object>"
      ]
     },
     "metadata": {},
     "output_type": "display_data"
    },
    {
     "name": "stdout",
     "output_type": "stream",
     "text": [
      "0.04%\n"
     ]
    },
    {
     "data": {
      "text/markdown": [
       "**subscribers** <--> **avg_per_month**"
      ],
      "text/plain": [
       "<IPython.core.display.Markdown object>"
      ]
     },
     "metadata": {},
     "output_type": "display_data"
    },
    {
     "name": "stdout",
     "output_type": "stream",
     "text": [
      "0.04%\n"
     ]
    },
    {
     "data": {
      "text/markdown": [
       "**subscribers** <--> **last_month_downloads**"
      ],
      "text/plain": [
       "<IPython.core.display.Markdown object>"
      ]
     },
     "metadata": {},
     "output_type": "display_data"
    },
    {
     "name": "stdout",
     "output_type": "stream",
     "text": [
      "0.04%\n"
     ]
    },
    {
     "data": {
      "text/markdown": [
       "**subscribers** <--> **last_week_downloads**"
      ],
      "text/plain": [
       "<IPython.core.display.Markdown object>"
      ]
     },
     "metadata": {},
     "output_type": "display_data"
    },
    {
     "name": "stdout",
     "output_type": "stream",
     "text": [
      "0.04%\n"
     ]
    },
    {
     "data": {
      "text/markdown": [
       "**downloads** <--> **avg_per_month**"
      ],
      "text/plain": [
       "<IPython.core.display.Markdown object>"
      ]
     },
     "metadata": {},
     "output_type": "display_data"
    },
    {
     "name": "stdout",
     "output_type": "stream",
     "text": [
      "1.00%\n"
     ]
    },
    {
     "data": {
      "text/markdown": [
       "**downloads** <--> **last_month_downloads**"
      ],
      "text/plain": [
       "<IPython.core.display.Markdown object>"
      ]
     },
     "metadata": {},
     "output_type": "display_data"
    },
    {
     "name": "stdout",
     "output_type": "stream",
     "text": [
      "0.98%\n"
     ]
    },
    {
     "data": {
      "text/markdown": [
       "**downloads** <--> **last_week_downloads**"
      ],
      "text/plain": [
       "<IPython.core.display.Markdown object>"
      ]
     },
     "metadata": {},
     "output_type": "display_data"
    },
    {
     "name": "stdout",
     "output_type": "stream",
     "text": [
      "0.96%\n"
     ]
    },
    {
     "data": {
      "text/markdown": [
       "**avg_per_month** <--> **last_month_downloads**"
      ],
      "text/plain": [
       "<IPython.core.display.Markdown object>"
      ]
     },
     "metadata": {},
     "output_type": "display_data"
    },
    {
     "name": "stdout",
     "output_type": "stream",
     "text": [
      "0.98%\n"
     ]
    },
    {
     "data": {
      "text/markdown": [
       "**avg_per_month** <--> **last_week_downloads**"
      ],
      "text/plain": [
       "<IPython.core.display.Markdown object>"
      ]
     },
     "metadata": {},
     "output_type": "display_data"
    },
    {
     "name": "stdout",
     "output_type": "stream",
     "text": [
      "0.97%\n"
     ]
    },
    {
     "data": {
      "text/markdown": [
       "**last_month_downloads** <--> **last_week_downloads**"
      ],
      "text/plain": [
       "<IPython.core.display.Markdown object>"
      ]
     },
     "metadata": {},
     "output_type": "display_data"
    },
    {
     "name": "stdout",
     "output_type": "stream",
     "text": [
      "0.99%\n"
     ]
    }
   ],
   "source": [
    "# We look for correlations between project features.\n",
    "from sklearn import preprocessing\n",
    "from scipy.stats.stats import pearsonr   \n",
    "\n",
    "for i in range(0, Y.shape[1]):\n",
    "    for j in range(i + 1, Y.shape[1]):\n",
    "        a = preprocessing.scale(Y[:, i])\n",
    "        b = preprocessing.scale(Y[:, j])\n",
    "        printmd(\"**{}** <--> **{}**\".format(Y_labels[i], Y_labels[j]))\n",
    "        print(\"%.2f%%\" % pearsonr(a,b)[0])"
   ]
  },
  {
   "cell_type": "markdown",
   "metadata": {},
   "source": [
    "Stars, forks and stars, subscribers correlate quite well. However to my suprise stars and number of downloads does not correlate at all.\n",
    "\n",
    "Different types of downloads have high correlation.\n",
    "\n",
    "### Now we try repos features"
   ]
  },
  {
   "cell_type": "code",
   "execution_count": 15,
   "metadata": {
    "collapsed": false
   },
   "outputs": [
    {
     "data": {
      "text/markdown": [
       "**open_issues_count** <--> **size**"
      ],
      "text/plain": [
       "<IPython.core.display.Markdown object>"
      ]
     },
     "metadata": {},
     "output_type": "display_data"
    },
    {
     "name": "stdout",
     "output_type": "stream",
     "text": [
      "0.29%\n"
     ]
    },
    {
     "data": {
      "text/markdown": [
       "**open_issues_count** <--> **dependencies_count**"
      ],
      "text/plain": [
       "<IPython.core.display.Markdown object>"
      ]
     },
     "metadata": {},
     "output_type": "display_data"
    },
    {
     "name": "stdout",
     "output_type": "stream",
     "text": [
      "0.10%\n"
     ]
    },
    {
     "data": {
      "text/markdown": [
       "**open_issues_count** <--> **mainteiners_count**"
      ],
      "text/plain": [
       "<IPython.core.display.Markdown object>"
      ]
     },
     "metadata": {},
     "output_type": "display_data"
    },
    {
     "name": "stdout",
     "output_type": "stream",
     "text": [
      "0.07%\n"
     ]
    },
    {
     "data": {
      "text/markdown": [
       "**open_issues_count** <--> **contributors_count**"
      ],
      "text/plain": [
       "<IPython.core.display.Markdown object>"
      ]
     },
     "metadata": {},
     "output_type": "display_data"
    },
    {
     "name": "stdout",
     "output_type": "stream",
     "text": [
      "0.10%\n"
     ]
    },
    {
     "data": {
      "text/markdown": [
       "**open_issues_count** <--> **has_tests**"
      ],
      "text/plain": [
       "<IPython.core.display.Markdown object>"
      ]
     },
     "metadata": {},
     "output_type": "display_data"
    },
    {
     "name": "stdout",
     "output_type": "stream",
     "text": [
      "0.00%\n"
     ]
    },
    {
     "data": {
      "text/markdown": [
       "**open_issues_count** <--> **has_readme**"
      ],
      "text/plain": [
       "<IPython.core.display.Markdown object>"
      ]
     },
     "metadata": {},
     "output_type": "display_data"
    },
    {
     "name": "stdout",
     "output_type": "stream",
     "text": [
      "0.01%\n"
     ]
    },
    {
     "data": {
      "text/markdown": [
       "**size** <--> **dependencies_count**"
      ],
      "text/plain": [
       "<IPython.core.display.Markdown object>"
      ]
     },
     "metadata": {},
     "output_type": "display_data"
    },
    {
     "name": "stdout",
     "output_type": "stream",
     "text": [
      "0.05%\n"
     ]
    },
    {
     "data": {
      "text/markdown": [
       "**size** <--> **mainteiners_count**"
      ],
      "text/plain": [
       "<IPython.core.display.Markdown object>"
      ]
     },
     "metadata": {},
     "output_type": "display_data"
    },
    {
     "name": "stdout",
     "output_type": "stream",
     "text": [
      "0.03%\n"
     ]
    },
    {
     "data": {
      "text/markdown": [
       "**size** <--> **contributors_count**"
      ],
      "text/plain": [
       "<IPython.core.display.Markdown object>"
      ]
     },
     "metadata": {},
     "output_type": "display_data"
    },
    {
     "name": "stdout",
     "output_type": "stream",
     "text": [
      "0.01%\n"
     ]
    },
    {
     "data": {
      "text/markdown": [
       "**size** <--> **has_tests**"
      ],
      "text/plain": [
       "<IPython.core.display.Markdown object>"
      ]
     },
     "metadata": {},
     "output_type": "display_data"
    },
    {
     "name": "stdout",
     "output_type": "stream",
     "text": [
      "-0.03%\n"
     ]
    },
    {
     "data": {
      "text/markdown": [
       "**size** <--> **has_readme**"
      ],
      "text/plain": [
       "<IPython.core.display.Markdown object>"
      ]
     },
     "metadata": {},
     "output_type": "display_data"
    },
    {
     "name": "stdout",
     "output_type": "stream",
     "text": [
      "0.00%\n"
     ]
    },
    {
     "data": {
      "text/markdown": [
       "**dependencies_count** <--> **mainteiners_count**"
      ],
      "text/plain": [
       "<IPython.core.display.Markdown object>"
      ]
     },
     "metadata": {},
     "output_type": "display_data"
    },
    {
     "name": "stdout",
     "output_type": "stream",
     "text": [
      "0.10%\n"
     ]
    },
    {
     "data": {
      "text/markdown": [
       "**dependencies_count** <--> **contributors_count**"
      ],
      "text/plain": [
       "<IPython.core.display.Markdown object>"
      ]
     },
     "metadata": {},
     "output_type": "display_data"
    },
    {
     "name": "stdout",
     "output_type": "stream",
     "text": [
      "0.18%\n"
     ]
    },
    {
     "data": {
      "text/markdown": [
       "**dependencies_count** <--> **has_tests**"
      ],
      "text/plain": [
       "<IPython.core.display.Markdown object>"
      ]
     },
     "metadata": {},
     "output_type": "display_data"
    },
    {
     "name": "stdout",
     "output_type": "stream",
     "text": [
      "0.02%\n"
     ]
    },
    {
     "data": {
      "text/markdown": [
       "**dependencies_count** <--> **has_readme**"
      ],
      "text/plain": [
       "<IPython.core.display.Markdown object>"
      ]
     },
     "metadata": {},
     "output_type": "display_data"
    },
    {
     "name": "stdout",
     "output_type": "stream",
     "text": [
      "0.06%\n"
     ]
    },
    {
     "data": {
      "text/markdown": [
       "**mainteiners_count** <--> **contributors_count**"
      ],
      "text/plain": [
       "<IPython.core.display.Markdown object>"
      ]
     },
     "metadata": {},
     "output_type": "display_data"
    },
    {
     "name": "stdout",
     "output_type": "stream",
     "text": [
      "0.05%\n"
     ]
    },
    {
     "data": {
      "text/markdown": [
       "**mainteiners_count** <--> **has_tests**"
      ],
      "text/plain": [
       "<IPython.core.display.Markdown object>"
      ]
     },
     "metadata": {},
     "output_type": "display_data"
    },
    {
     "name": "stdout",
     "output_type": "stream",
     "text": [
      "0.03%\n"
     ]
    },
    {
     "data": {
      "text/markdown": [
       "**mainteiners_count** <--> **has_readme**"
      ],
      "text/plain": [
       "<IPython.core.display.Markdown object>"
      ]
     },
     "metadata": {},
     "output_type": "display_data"
    },
    {
     "name": "stdout",
     "output_type": "stream",
     "text": [
      "0.05%\n"
     ]
    },
    {
     "data": {
      "text/markdown": [
       "**contributors_count** <--> **has_tests**"
      ],
      "text/plain": [
       "<IPython.core.display.Markdown object>"
      ]
     },
     "metadata": {},
     "output_type": "display_data"
    },
    {
     "name": "stdout",
     "output_type": "stream",
     "text": [
      "0.01%\n"
     ]
    },
    {
     "data": {
      "text/markdown": [
       "**contributors_count** <--> **has_readme**"
      ],
      "text/plain": [
       "<IPython.core.display.Markdown object>"
      ]
     },
     "metadata": {},
     "output_type": "display_data"
    },
    {
     "name": "stdout",
     "output_type": "stream",
     "text": [
      "0.01%\n"
     ]
    },
    {
     "data": {
      "text/markdown": [
       "**has_tests** <--> **has_readme**"
      ],
      "text/plain": [
       "<IPython.core.display.Markdown object>"
      ]
     },
     "metadata": {},
     "output_type": "display_data"
    },
    {
     "name": "stdout",
     "output_type": "stream",
     "text": [
      "0.15%\n"
     ]
    }
   ],
   "source": [
    "for i in range(0, X.shape[1]):\n",
    "    for j in range(i + 1, X.shape[1]):\n",
    "        a = preprocessing.scale(X[:, i])\n",
    "        b = preprocessing.scale(X[:, j])\n",
    "        printmd(\"**{}** <--> **{}**\".format(X_labels[i], X_labels[j]))\n",
    "        print(\"%.2f%%\" % pearsonr(a,b)[0])"
   ]
  },
  {
   "cell_type": "markdown",
   "metadata": {},
   "source": [
    "There is only one small correlation between size of the project and number of opened issues.\n",
    "\n",
    "\n",
    "### Now we try correlations between features and popularity indicators."
   ]
  },
  {
   "cell_type": "code",
   "execution_count": 16,
   "metadata": {
    "collapsed": false
   },
   "outputs": [
    {
     "data": {
      "text/markdown": [
       "**open_issues_count** <--> **stars**"
      ],
      "text/plain": [
       "<IPython.core.display.Markdown object>"
      ]
     },
     "metadata": {},
     "output_type": "display_data"
    },
    {
     "name": "stdout",
     "output_type": "stream",
     "text": [
      "0.49%\n"
     ]
    },
    {
     "data": {
      "text/markdown": [
       "**open_issues_count** <--> **forks**"
      ],
      "text/plain": [
       "<IPython.core.display.Markdown object>"
      ]
     },
     "metadata": {},
     "output_type": "display_data"
    },
    {
     "name": "stdout",
     "output_type": "stream",
     "text": [
      "0.40%\n"
     ]
    },
    {
     "data": {
      "text/markdown": [
       "**open_issues_count** <--> **subscribers**"
      ],
      "text/plain": [
       "<IPython.core.display.Markdown object>"
      ]
     },
     "metadata": {},
     "output_type": "display_data"
    },
    {
     "name": "stdout",
     "output_type": "stream",
     "text": [
      "0.39%\n"
     ]
    },
    {
     "data": {
      "text/markdown": [
       "**open_issues_count** <--> **downloads**"
      ],
      "text/plain": [
       "<IPython.core.display.Markdown object>"
      ]
     },
     "metadata": {},
     "output_type": "display_data"
    },
    {
     "name": "stdout",
     "output_type": "stream",
     "text": [
      "0.04%\n"
     ]
    },
    {
     "data": {
      "text/markdown": [
       "**open_issues_count** <--> **avg_per_month**"
      ],
      "text/plain": [
       "<IPython.core.display.Markdown object>"
      ]
     },
     "metadata": {},
     "output_type": "display_data"
    },
    {
     "name": "stdout",
     "output_type": "stream",
     "text": [
      "0.04%\n"
     ]
    },
    {
     "data": {
      "text/markdown": [
       "**open_issues_count** <--> **last_month_downloads**"
      ],
      "text/plain": [
       "<IPython.core.display.Markdown object>"
      ]
     },
     "metadata": {},
     "output_type": "display_data"
    },
    {
     "name": "stdout",
     "output_type": "stream",
     "text": [
      "0.03%\n"
     ]
    },
    {
     "data": {
      "text/markdown": [
       "**open_issues_count** <--> **last_week_downloads**"
      ],
      "text/plain": [
       "<IPython.core.display.Markdown object>"
      ]
     },
     "metadata": {},
     "output_type": "display_data"
    },
    {
     "name": "stdout",
     "output_type": "stream",
     "text": [
      "0.03%\n"
     ]
    },
    {
     "data": {
      "text/markdown": [
       "**size** <--> **stars**"
      ],
      "text/plain": [
       "<IPython.core.display.Markdown object>"
      ]
     },
     "metadata": {},
     "output_type": "display_data"
    },
    {
     "name": "stdout",
     "output_type": "stream",
     "text": [
      "0.17%\n"
     ]
    },
    {
     "data": {
      "text/markdown": [
       "**size** <--> **forks**"
      ],
      "text/plain": [
       "<IPython.core.display.Markdown object>"
      ]
     },
     "metadata": {},
     "output_type": "display_data"
    },
    {
     "name": "stdout",
     "output_type": "stream",
     "text": [
      "0.16%\n"
     ]
    },
    {
     "data": {
      "text/markdown": [
       "**size** <--> **subscribers**"
      ],
      "text/plain": [
       "<IPython.core.display.Markdown object>"
      ]
     },
     "metadata": {},
     "output_type": "display_data"
    },
    {
     "name": "stdout",
     "output_type": "stream",
     "text": [
      "0.16%\n"
     ]
    },
    {
     "data": {
      "text/markdown": [
       "**size** <--> **downloads**"
      ],
      "text/plain": [
       "<IPython.core.display.Markdown object>"
      ]
     },
     "metadata": {},
     "output_type": "display_data"
    },
    {
     "name": "stdout",
     "output_type": "stream",
     "text": [
      "0.01%\n"
     ]
    },
    {
     "data": {
      "text/markdown": [
       "**size** <--> **avg_per_month**"
      ],
      "text/plain": [
       "<IPython.core.display.Markdown object>"
      ]
     },
     "metadata": {},
     "output_type": "display_data"
    },
    {
     "name": "stdout",
     "output_type": "stream",
     "text": [
      "0.01%\n"
     ]
    },
    {
     "data": {
      "text/markdown": [
       "**size** <--> **last_month_downloads**"
      ],
      "text/plain": [
       "<IPython.core.display.Markdown object>"
      ]
     },
     "metadata": {},
     "output_type": "display_data"
    },
    {
     "name": "stdout",
     "output_type": "stream",
     "text": [
      "0.01%\n"
     ]
    },
    {
     "data": {
      "text/markdown": [
       "**size** <--> **last_week_downloads**"
      ],
      "text/plain": [
       "<IPython.core.display.Markdown object>"
      ]
     },
     "metadata": {},
     "output_type": "display_data"
    },
    {
     "name": "stdout",
     "output_type": "stream",
     "text": [
      "0.01%\n"
     ]
    },
    {
     "data": {
      "text/markdown": [
       "**dependencies_count** <--> **stars**"
      ],
      "text/plain": [
       "<IPython.core.display.Markdown object>"
      ]
     },
     "metadata": {},
     "output_type": "display_data"
    },
    {
     "name": "stdout",
     "output_type": "stream",
     "text": [
      "0.06%\n"
     ]
    },
    {
     "data": {
      "text/markdown": [
       "**dependencies_count** <--> **forks**"
      ],
      "text/plain": [
       "<IPython.core.display.Markdown object>"
      ]
     },
     "metadata": {},
     "output_type": "display_data"
    },
    {
     "name": "stdout",
     "output_type": "stream",
     "text": [
      "0.03%\n"
     ]
    },
    {
     "data": {
      "text/markdown": [
       "**dependencies_count** <--> **subscribers**"
      ],
      "text/plain": [
       "<IPython.core.display.Markdown object>"
      ]
     },
     "metadata": {},
     "output_type": "display_data"
    },
    {
     "name": "stdout",
     "output_type": "stream",
     "text": [
      "0.06%\n"
     ]
    },
    {
     "data": {
      "text/markdown": [
       "**dependencies_count** <--> **downloads**"
      ],
      "text/plain": [
       "<IPython.core.display.Markdown object>"
      ]
     },
     "metadata": {},
     "output_type": "display_data"
    },
    {
     "name": "stdout",
     "output_type": "stream",
     "text": [
      "0.02%\n"
     ]
    },
    {
     "data": {
      "text/markdown": [
       "**dependencies_count** <--> **avg_per_month**"
      ],
      "text/plain": [
       "<IPython.core.display.Markdown object>"
      ]
     },
     "metadata": {},
     "output_type": "display_data"
    },
    {
     "name": "stdout",
     "output_type": "stream",
     "text": [
      "0.01%\n"
     ]
    },
    {
     "data": {
      "text/markdown": [
       "**dependencies_count** <--> **last_month_downloads**"
      ],
      "text/plain": [
       "<IPython.core.display.Markdown object>"
      ]
     },
     "metadata": {},
     "output_type": "display_data"
    },
    {
     "name": "stdout",
     "output_type": "stream",
     "text": [
      "0.01%\n"
     ]
    },
    {
     "data": {
      "text/markdown": [
       "**dependencies_count** <--> **last_week_downloads**"
      ],
      "text/plain": [
       "<IPython.core.display.Markdown object>"
      ]
     },
     "metadata": {},
     "output_type": "display_data"
    },
    {
     "name": "stdout",
     "output_type": "stream",
     "text": [
      "0.01%\n"
     ]
    },
    {
     "data": {
      "text/markdown": [
       "**mainteiners_count** <--> **stars**"
      ],
      "text/plain": [
       "<IPython.core.display.Markdown object>"
      ]
     },
     "metadata": {},
     "output_type": "display_data"
    },
    {
     "name": "stdout",
     "output_type": "stream",
     "text": [
      "0.05%\n"
     ]
    },
    {
     "data": {
      "text/markdown": [
       "**mainteiners_count** <--> **forks**"
      ],
      "text/plain": [
       "<IPython.core.display.Markdown object>"
      ]
     },
     "metadata": {},
     "output_type": "display_data"
    },
    {
     "name": "stdout",
     "output_type": "stream",
     "text": [
      "0.03%\n"
     ]
    },
    {
     "data": {
      "text/markdown": [
       "**mainteiners_count** <--> **subscribers**"
      ],
      "text/plain": [
       "<IPython.core.display.Markdown object>"
      ]
     },
     "metadata": {},
     "output_type": "display_data"
    },
    {
     "name": "stdout",
     "output_type": "stream",
     "text": [
      "0.11%\n"
     ]
    },
    {
     "data": {
      "text/markdown": [
       "**mainteiners_count** <--> **downloads**"
      ],
      "text/plain": [
       "<IPython.core.display.Markdown object>"
      ]
     },
     "metadata": {},
     "output_type": "display_data"
    },
    {
     "name": "stdout",
     "output_type": "stream",
     "text": [
      "0.05%\n"
     ]
    },
    {
     "data": {
      "text/markdown": [
       "**mainteiners_count** <--> **avg_per_month**"
      ],
      "text/plain": [
       "<IPython.core.display.Markdown object>"
      ]
     },
     "metadata": {},
     "output_type": "display_data"
    },
    {
     "name": "stdout",
     "output_type": "stream",
     "text": [
      "0.05%\n"
     ]
    },
    {
     "data": {
      "text/markdown": [
       "**mainteiners_count** <--> **last_month_downloads**"
      ],
      "text/plain": [
       "<IPython.core.display.Markdown object>"
      ]
     },
     "metadata": {},
     "output_type": "display_data"
    },
    {
     "name": "stdout",
     "output_type": "stream",
     "text": [
      "0.05%\n"
     ]
    },
    {
     "data": {
      "text/markdown": [
       "**mainteiners_count** <--> **last_week_downloads**"
      ],
      "text/plain": [
       "<IPython.core.display.Markdown object>"
      ]
     },
     "metadata": {},
     "output_type": "display_data"
    },
    {
     "name": "stdout",
     "output_type": "stream",
     "text": [
      "0.05%\n"
     ]
    },
    {
     "data": {
      "text/markdown": [
       "**contributors_count** <--> **stars**"
      ],
      "text/plain": [
       "<IPython.core.display.Markdown object>"
      ]
     },
     "metadata": {},
     "output_type": "display_data"
    },
    {
     "name": "stdout",
     "output_type": "stream",
     "text": [
      "0.04%\n"
     ]
    },
    {
     "data": {
      "text/markdown": [
       "**contributors_count** <--> **forks**"
      ],
      "text/plain": [
       "<IPython.core.display.Markdown object>"
      ]
     },
     "metadata": {},
     "output_type": "display_data"
    },
    {
     "name": "stdout",
     "output_type": "stream",
     "text": [
      "0.02%\n"
     ]
    },
    {
     "data": {
      "text/markdown": [
       "**contributors_count** <--> **subscribers**"
      ],
      "text/plain": [
       "<IPython.core.display.Markdown object>"
      ]
     },
     "metadata": {},
     "output_type": "display_data"
    },
    {
     "name": "stdout",
     "output_type": "stream",
     "text": [
      "0.02%\n"
     ]
    },
    {
     "data": {
      "text/markdown": [
       "**contributors_count** <--> **downloads**"
      ],
      "text/plain": [
       "<IPython.core.display.Markdown object>"
      ]
     },
     "metadata": {},
     "output_type": "display_data"
    },
    {
     "name": "stdout",
     "output_type": "stream",
     "text": [
      "0.10%\n"
     ]
    },
    {
     "data": {
      "text/markdown": [
       "**contributors_count** <--> **avg_per_month**"
      ],
      "text/plain": [
       "<IPython.core.display.Markdown object>"
      ]
     },
     "metadata": {},
     "output_type": "display_data"
    },
    {
     "name": "stdout",
     "output_type": "stream",
     "text": [
      "0.10%\n"
     ]
    },
    {
     "data": {
      "text/markdown": [
       "**contributors_count** <--> **last_month_downloads**"
      ],
      "text/plain": [
       "<IPython.core.display.Markdown object>"
      ]
     },
     "metadata": {},
     "output_type": "display_data"
    },
    {
     "name": "stdout",
     "output_type": "stream",
     "text": [
      "0.08%\n"
     ]
    },
    {
     "data": {
      "text/markdown": [
       "**contributors_count** <--> **last_week_downloads**"
      ],
      "text/plain": [
       "<IPython.core.display.Markdown object>"
      ]
     },
     "metadata": {},
     "output_type": "display_data"
    },
    {
     "name": "stdout",
     "output_type": "stream",
     "text": [
      "0.08%\n"
     ]
    },
    {
     "data": {
      "text/markdown": [
       "**has_tests** <--> **stars**"
      ],
      "text/plain": [
       "<IPython.core.display.Markdown object>"
      ]
     },
     "metadata": {},
     "output_type": "display_data"
    },
    {
     "name": "stdout",
     "output_type": "stream",
     "text": [
      "-0.00%\n"
     ]
    },
    {
     "data": {
      "text/markdown": [
       "**has_tests** <--> **forks**"
      ],
      "text/plain": [
       "<IPython.core.display.Markdown object>"
      ]
     },
     "metadata": {},
     "output_type": "display_data"
    },
    {
     "name": "stdout",
     "output_type": "stream",
     "text": [
      "-0.00%\n"
     ]
    },
    {
     "data": {
      "text/markdown": [
       "**has_tests** <--> **subscribers**"
      ],
      "text/plain": [
       "<IPython.core.display.Markdown object>"
      ]
     },
     "metadata": {},
     "output_type": "display_data"
    },
    {
     "name": "stdout",
     "output_type": "stream",
     "text": [
      "0.00%\n"
     ]
    },
    {
     "data": {
      "text/markdown": [
       "**has_tests** <--> **downloads**"
      ],
      "text/plain": [
       "<IPython.core.display.Markdown object>"
      ]
     },
     "metadata": {},
     "output_type": "display_data"
    },
    {
     "name": "stdout",
     "output_type": "stream",
     "text": [
      "0.02%\n"
     ]
    },
    {
     "data": {
      "text/markdown": [
       "**has_tests** <--> **avg_per_month**"
      ],
      "text/plain": [
       "<IPython.core.display.Markdown object>"
      ]
     },
     "metadata": {},
     "output_type": "display_data"
    },
    {
     "name": "stdout",
     "output_type": "stream",
     "text": [
      "0.02%\n"
     ]
    },
    {
     "data": {
      "text/markdown": [
       "**has_tests** <--> **last_month_downloads**"
      ],
      "text/plain": [
       "<IPython.core.display.Markdown object>"
      ]
     },
     "metadata": {},
     "output_type": "display_data"
    },
    {
     "name": "stdout",
     "output_type": "stream",
     "text": [
      "0.03%\n"
     ]
    },
    {
     "data": {
      "text/markdown": [
       "**has_tests** <--> **last_week_downloads**"
      ],
      "text/plain": [
       "<IPython.core.display.Markdown object>"
      ]
     },
     "metadata": {},
     "output_type": "display_data"
    },
    {
     "name": "stdout",
     "output_type": "stream",
     "text": [
      "0.03%\n"
     ]
    },
    {
     "data": {
      "text/markdown": [
       "**has_readme** <--> **stars**"
      ],
      "text/plain": [
       "<IPython.core.display.Markdown object>"
      ]
     },
     "metadata": {},
     "output_type": "display_data"
    },
    {
     "name": "stdout",
     "output_type": "stream",
     "text": [
      "0.01%\n"
     ]
    },
    {
     "data": {
      "text/markdown": [
       "**has_readme** <--> **forks**"
      ],
      "text/plain": [
       "<IPython.core.display.Markdown object>"
      ]
     },
     "metadata": {},
     "output_type": "display_data"
    },
    {
     "name": "stdout",
     "output_type": "stream",
     "text": [
      "0.00%\n"
     ]
    },
    {
     "data": {
      "text/markdown": [
       "**has_readme** <--> **subscribers**"
      ],
      "text/plain": [
       "<IPython.core.display.Markdown object>"
      ]
     },
     "metadata": {},
     "output_type": "display_data"
    },
    {
     "name": "stdout",
     "output_type": "stream",
     "text": [
      "0.01%\n"
     ]
    },
    {
     "data": {
      "text/markdown": [
       "**has_readme** <--> **downloads**"
      ],
      "text/plain": [
       "<IPython.core.display.Markdown object>"
      ]
     },
     "metadata": {},
     "output_type": "display_data"
    },
    {
     "name": "stdout",
     "output_type": "stream",
     "text": [
      "0.02%\n"
     ]
    },
    {
     "data": {
      "text/markdown": [
       "**has_readme** <--> **avg_per_month**"
      ],
      "text/plain": [
       "<IPython.core.display.Markdown object>"
      ]
     },
     "metadata": {},
     "output_type": "display_data"
    },
    {
     "name": "stdout",
     "output_type": "stream",
     "text": [
      "0.02%\n"
     ]
    },
    {
     "data": {
      "text/markdown": [
       "**has_readme** <--> **last_month_downloads**"
      ],
      "text/plain": [
       "<IPython.core.display.Markdown object>"
      ]
     },
     "metadata": {},
     "output_type": "display_data"
    },
    {
     "name": "stdout",
     "output_type": "stream",
     "text": [
      "0.02%\n"
     ]
    },
    {
     "data": {
      "text/markdown": [
       "**has_readme** <--> **last_week_downloads**"
      ],
      "text/plain": [
       "<IPython.core.display.Markdown object>"
      ]
     },
     "metadata": {},
     "output_type": "display_data"
    },
    {
     "name": "stdout",
     "output_type": "stream",
     "text": [
      "0.02%\n"
     ]
    }
   ],
   "source": [
    "# We look for correlations between project features and popularity indicators. \n",
    "for i in range(0, X.shape[1]):\n",
    "    for j in range(0, Y.shape[1]):\n",
    "        a = preprocessing.scale(X[:, i])\n",
    "        b = preprocessing.scale(Y[:, j])\n",
    "        printmd(\"**{}** <--> **{}**\".format(X_labels[i], Y_labels[j]))\n",
    "        print(\"%.2f%%\" % pearsonr(a,b)[0])"
   ]
  },
  {
   "cell_type": "markdown",
   "metadata": {},
   "source": [
    "# Applying MDS to find clusters"
   ]
  },
  {
   "cell_type": "code",
   "execution_count": 17,
   "metadata": {
    "collapsed": false
   },
   "outputs": [
    {
     "data": {
      "image/png": "[encoded data removed]",
      "text/plain": [
       "<matplotlib.figure.Figure at 0x11180fb00>"
      ]
     },
     "metadata": {},
     "output_type": "display_data"
    }
   ],
   "source": [
    "from sklearn.manifold import MDS\n",
    "\n",
    "mds = MDS(n_components=2, metric=True, dissimilarity='euclidean', random_state=3)\n",
    "Y_mds = mds.fit_transform(Y[:1000])\n",
    "\n",
    "plt.figure(figsize=(15, 15)).suptitle('MDS Y 2D projection', size=20)\n",
    "plt.subplot(111)\n",
    "plt.scatter(Y_mds[0:,0], Y_mds[0:,1])\n",
    "\n",
    "plt.show()"
   ]
  },
  {
   "cell_type": "code",
   "execution_count": 18,
   "metadata": {
    "collapsed": false
   },
   "outputs": [
    {
     "data": {
      "image/png": "[encoded data removed]",
      "text/plain": [
       "<matplotlib.figure.Figure at 0x11180f9e8>"
      ]
     },
     "metadata": {},
     "output_type": "display_data"
    }
   ],
   "source": [
    "mds = MDS(n_components=2, metric=True, dissimilarity='euclidean', random_state=3)\n",
    "X_mds = mds.fit_transform(X[:1000])\n",
    "\n",
    "plt.figure(figsize=(15, 15)).suptitle('MDS X 2D projection', size=20)\n",
    "plt.subplot(111)\n",
    "\n",
    "plt.scatter(Y_mds[0:,0], X_mds[0:,1])\n",
    "\n",
    "plt.show()"
   ]
  },
  {
   "cell_type": "markdown",
   "metadata": {},
   "source": [
    "# Graphs that show distribution of popularity indicators"
   ]
  },
  {
   "cell_type": "code",
   "execution_count": 20,
   "metadata": {
    "collapsed": false
   },
   "outputs": [
    {
     "data": {
      "image/png": "[encoded data removed]",
      "text/plain": [
       "<matplotlib.figure.Figure at 0x1237e53c8>"
      ]
     },
     "metadata": {},
     "output_type": "display_data"
    }
   ],
   "source": [
    "fig, axes = plt.subplots(nrows=4, ncols=2, figsize=(15, 15))\n",
    "\n",
    "axes[0, 0].plot(np.sort(Y[:, shared.STARS]), 'ro')\n",
    "axes[0, 0].set_title('Stars')\n",
    "\n",
    "axes[0, 1].plot(np.sort(Y[:, shared.FORKS]), 'ro')\n",
    "axes[0, 1].set_title('Forks')\n",
    "\n",
    "axes[1, 0].plot(np.sort(Y[:, shared.SUBSCRIBERS]), 'ro')\n",
    "axes[1, 0].set_title('Subscribers')\n",
    "\n",
    "axes[1, 1].plot(np.sort(Y[:, shared.TOTAL_DOWNLOADS]), 'ro')\n",
    "axes[1, 1].set_title('Downloads total')\n",
    "\n",
    "axes[2, 0].plot(np.sort(Y[:, shared.AVERAGE_PER_MONTH_DOWNLOADS]), 'ro')\n",
    "axes[2, 0].set_title('Downloads AVG')\n",
    "\n",
    "axes[2, 1].plot(np.sort(Y[:, shared.LAST_MONTH_DOWNLOADS]), 'ro')\n",
    "axes[2, 1].set_title('Downloads last month')\n",
    "\n",
    "axes[3, 0].plot(np.sort(Y[:, shared.LAST_WEEK_DOWNLOADS]), 'ro')\n",
    "axes[3, 0].set_title('Downloads last week')\n",
    "\n",
    "\n",
    "plt.show()"
   ]
  },
  {
   "cell_type": "markdown",
   "metadata": {},
   "source": [
    "Distribution of popularity indicators is very imbalanced, either the package is not popular at all or it grows really fast."
   ]
  },
  {
   "cell_type": "markdown",
   "metadata": {},
   "source": [
    "# KMeans on number of downloads"
   ]
  },
  {
   "cell_type": "code",
   "execution_count": 22,
   "metadata": {
    "collapsed": false
   },
   "outputs": [
    {
     "data": {
      "image/png": "[encoded data removed]",
      "text/plain": [
       "<matplotlib.figure.Figure at 0x12299c550>"
      ]
     },
     "metadata": {},
     "output_type": "display_data"
    }
   ],
   "source": [
    "from sklearn.cluster import KMeans\n",
    "est = KMeans(2)\n",
    "est.fit(Y[:, [0, shared.TOTAL_DOWNLOADS]])\n",
    "y_kmeans = est.predict(Y[:, [0, shared.TOTAL_DOWNLOADS]])\n",
    "\n",
    "plt.figure(figsize=(10, 10)).suptitle('Downloads and stars', size=20)\n",
    "plt.ylabel = \"Downloads\"\n",
    "plt.xlabel = \"Stars\"\n",
    "plt.scatter(Y[:, shared.STARS], Y[:, shared.TOTAL_DOWNLOADS], c=y_kmeans, s=50, cmap='rainbow');\n",
    "\n",
    "plt.grid()\n",
    "plt.show()"
   ]
  }
 ],
 "metadata": {
  "anaconda-cloud": {},
  "kernelspec": {
   "display_name": "Python [Root]",
   "language": "python",
   "name": "Python [Root]"
  },
  "language_info": {
   "codemirror_mode": {
    "name": "ipython",
    "version": 3
   },
   "file_extension": ".py",
   "mimetype": "text/x-python",
   "name": "python",
   "nbconvert_exporter": "python",
   "pygments_lexer": "ipython3",
   "version": "3.5.2"
  }
 },
 "nbformat": 4,
 "nbformat_minor": 0
}
